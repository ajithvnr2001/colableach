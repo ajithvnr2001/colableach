{
  "cells": [
    {
      "cell_type": "code",
      "execution_count": null,
      "metadata": {
        "id": "GDv8JJ8zacVL"
      },
      "outputs": [],
      "source": [
        "import os\n",
        "\n",
        "dir_names = ['content2','content3','content4']\n",
        "dir_path = '/content/'\n",
        "\n",
        "for name in dir_names:\n",
        "    path = os.path.join(dir_path, name)\n",
        "    if os.path.exists(path):\n",
        "        os.rmdir(path)\n",
        "    os.mkdir(path)"
      ]
    },
    {
      "cell_type": "code",
      "execution_count": null,
      "metadata": {
        "id": "3vtygdf1XxiU"
      },
      "outputs": [],
      "source": [
        "import os\n",
        "os.chdir('/content/content3')\n",
        "# !wget -c 'URL' --no-check-certificate -O abc.mkv\n",
        "# !wget -c 'URL' --no-check-certificate -O abc.mkv\n",
        "# !wget -c 'URL' --no-check-certificate -O abc.mkv\n",
        "# !wget -c 'URL' --no-check-certificate -O abc.mkv\n",
        "# !wget -c 'URL' --no-check-certificate -O abc.mkv\n",
        "# !wget -c 'URL' --no-check-certificate -O abc.mkv\n",
        "# !wget -c 'URL' --no-check-certificate -O abc.mkv\n",
        "# !wget -c 'URL' --no-check-certificate -O abc.mkv\n",
        "# !wget -c 'URL' --no-check-certificate -O abc.mkv\n",
        "# !wget -c 'URL' --no-check-certificate -O abc.mkv\n",
        "# !wget -c 'URL' --no-check-certificate -O abc.mkv\n",
        "# !wget -c 'URL' --no-check-certificate -O abc.mkv"
      ]
    },
    {
      "cell_type": "code",
      "execution_count": null,
      "metadata": {
        "id": "rhZ62vcFaL2a"
      },
      "outputs": [],
      "source": [
        "!pip install boto3"
      ]
    },
    {
      "cell_type": "code",
      "execution_count": null,
      "metadata": {
        "id": "Y42m6MQVaM5x"
      },
      "outputs": [],
      "source": [
        "#Upload by folder\n",
        "import os\n",
        "import time\n",
        "from datetime import datetime, timedelta\n",
        "import boto3\n",
        "import threading\n",
        "\n",
        "# Let's use S3\n",
        "s3 = boto3.client(\n",
        "    service_name='s3',\n",
        "    aws_access_key_id='lgCk6goxGJtlXfJS',\n",
        "    aws_secret_access_key='FNk79XwjgXSmP4iSnLqsBs6WQxYtRvSN9D7S15OS',\n",
        "    endpoint_url='https://s3.tebi.io'\n",
        ")\n",
        "\n",
        "# Set the folder path\n",
        "folder_path = '/content/content3'\n",
        "\n",
        "bytes_transferred = 0\n",
        "\n",
        "def show_progress():\n",
        "    global start_time, bytes_transferred, total_bytes\n",
        "    elapsed_time = max(time.time() - start_time, 0.001)\n",
        "    speed = (bytes_transferred / (1024 ** 2)) / elapsed_time\n",
        "    remaining_bytes = total_bytes - bytes_transferred\n",
        "\n",
        "    if bytes_transferred == 0:\n",
        "        estimated_remaining_time = \"Unknown\"\n",
        "    else:\n",
        "        estimated_remaining_time = timedelta(seconds=remaining_bytes / (bytes_transferred / elapsed_time))\n",
        "\n",
        "    print(f'\\rUploaded: {bytes_transferred / (1024 ** 3):.2f}/{total_bytes / (1024 ** 3):.2f} GB, '\n",
        "          f'Speed: {speed:.2f} MB/s, '\n",
        "          f'Estimated remaining time: {estimated_remaining_time}', end='')\n",
        "\n",
        "    # Schedule the next progress update\n",
        "    threading.Timer(1, show_progress).start()\n",
        "\n",
        "# Custom progress callback function to display upload progress\n",
        "def progress_callback(new_bytes_transferred):\n",
        "    global bytes_transferred\n",
        "    bytes_transferred += new_bytes_transferred\n",
        "\n",
        "# Loop through all items in the folder\n",
        "for item_name in os.listdir(folder_path):\n",
        "    item_path = os.path.join(folder_path, item_name)\n",
        "\n",
        "    # Check if the item is a file\n",
        "    if os.path.isfile(item_path):\n",
        "        print(f\"Uploading {item_name}\")\n",
        "\n",
        "        # Upload each file to S3\n",
        "        with open(item_path, 'rb') as data:\n",
        "            file_size = os.path.getsize(item_path)\n",
        "            total_bytes = file_size\n",
        "            start_time = time.time()  # Store the start time of the upload for calculating speed\n",
        "            show_progress()  # Start showing progress updates\n",
        "            s3.upload_fileobj(data, 'tmove', item_name, Callback=progress_callback)\n",
        "            print(f'\\nUploaded {item_name}')\n",
        "    else:\n",
        "        print(f\"Skipping {item_name} (not a file)\")\n",
        "\n",
        "print('All files uploaded successfully!')"
      ]
    },
    {
      "cell_type": "code",
      "execution_count": null,
      "metadata": {
        "id": "0XnJBGd3duPD"
      },
      "outputs": [],
      "source": [
        "import os\n",
        "import boto3\n",
        "\n",
        "# S3 credentials and configuration\n",
        "s3 = boto3.client(\n",
        "    service_name='s3',\n",
        "    aws_access_key_id='zRdJTyqAh0ry1Vyq',\n",
        "    aws_secret_access_key='JAcKMkevYwCWx2XOpxrTBKDHxuKCovrCHE2Cvwie',\n",
        "    endpoint_url='https://s3.tebi.io'\n",
        ")\n",
        "\n",
        "# Specify the bucket name\n",
        "bucket_name = 'tempmovies'\n",
        "\n",
        "def list_files():\n",
        "    \"\"\"Lists files within the specified bucket.\"\"\"\n",
        "    print(\"Listing files:\")\n",
        "    index = 1\n",
        "    for item in s3.list_objects(Bucket=bucket_name)['Contents']:\n",
        "        print(f\"{index}. {item['Key']}\")\n",
        "        index += 1\n",
        "\n",
        "def delete_files():\n",
        "    \"\"\"Prompts for file selection and deletes them from the bucket.\"\"\"\n",
        "    while True:\n",
        "        try:\n",
        "            choices = input(\"Mention the number of files to delete, or file numbers separated by spaces: \")\n",
        "            if choices == '':\n",
        "                print(\"No files selected.\")\n",
        "                break\n",
        "\n",
        "            # Handle single or multiple selections\n",
        "            choices = choices.split()\n",
        "            for choice in choices:\n",
        "                if choice.isdigit():\n",
        "                    index = int(choice) - 1  # Adjust for zero-based indexing\n",
        "                    if 0 <= index < len(s3.list_objects(Bucket=bucket_name)['Contents']):\n",
        "                        file_key = s3.list_objects(Bucket=bucket_name)['Contents'][index]['Key']\n",
        "                        s3.delete_object(Bucket=bucket_name, Key=file_key)\n",
        "                        print(f\"File '{file_key}' deleted.\")\n",
        "                    else:\n",
        "                        print(f\"Invalid file number: {choice}\")\n",
        "                else:\n",
        "                    # Assume direct file key was entered\n",
        "                    s3.delete_object(Bucket=bucket_name, Key=choice)\n",
        "                    print(f\"File '{choice}' deleted.\")\n",
        "            break  # Exit the loop upon successful deletion\n",
        "\n",
        "        except ValueError:\n",
        "            print(\"Invalid input. Please provide valid file numbers.\")\n",
        "\n",
        "# Main execution\n",
        "list_files()  # List files once at the beginning\n",
        "delete_files()\n"
      ]
    }
  ],
  "metadata": {
    "colab": {
      "provenance": []
    },
    "kernelspec": {
      "display_name": "Python 3",
      "name": "python3"
    },
    "language_info": {
      "name": "python"
    }
  },
  "nbformat": 4,
  "nbformat_minor": 0
}