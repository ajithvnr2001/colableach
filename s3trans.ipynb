{
  "cells": [
    {
      "cell_type": "code",
      "execution_count": null,
      "metadata": {
        "id": "GDv8JJ8zacVL"
      },
      "outputs": [],
      "source": [
        "import os\n",
        "\n",
        "dir_names = ['content2','content3','content4']\n",
        "dir_path = '/content/'\n",
        "\n",
        "for name in dir_names:\n",
        "    path = os.path.join(dir_path, name)\n",
        "    if os.path.exists(path):\n",
        "        os.rmdir(path)\n",
        "    os.mkdir(path)"
      ]
    },
    {
      "cell_type": "code",
      "execution_count": null,
      "metadata": {
        "id": "3vtygdf1XxiU"
      },
      "outputs": [],
      "source": [
        "import os\n",
        "os.chdir('/content/content3')\n",
        "# !wget -c 'https://dl-a10b-0863.mypikpak.com/download/?fid=vuR1lExHUMQET90V5jOlvcOkJanXST6a4Wtt7T90yIabVQJJx2QnAOAospHGphjM6KuAiakydSvhh8s1PONXI2DoZzT-vUu_tJ2oJhKlEDU=&from=5&verno=3&prod=1104&expire=1716124869&g=2899C29F4BECB97403577D287D96F58FBC77E5FC&ui=ZkTJtIws3k_Y5Fk2&t=0&ms=6300000&th=6300000&f=1453844982&alt=0&fileid=VNyASush-HekmL-0D9BLgqK-o1&userid=ZkTJtIws3k_Y5Fk2&pr=XQPkPvr9WWiIuMvELmrVeiSjj1EPhpLXi5FTfODJ6KvrC6qW5J_NObZxTAwCyX02q4N9rJw49LIiHFOVPaojmEFoTe1AyXDb6XPQBdr_yPRm9rmvDJapb4gPqA7ECQZOt598DRpnUYmK7u6iRKkyVal6VQq2smCs5TZeP5JQ5HDhzC0LeZcSBq7jp5eJmrDes8L0UBpy0goORFI9dTnorGi9HQU4vgKaA_5jLlWODPNoWYmMIaFW7AHDv4j1DxGRwtlMHNMyd0iWhlQttdg37_XKc6mi6h1ZIML-Ph7RLZWCCcLxoz5EjLoJrDNhObxF4J9pjBCASUNFK5AZmgr3Vgr2qt-ygEq8SG5CJnMkGeQ=&sign=BB238AE31622DC9FEEBFD32E21A09D3B' --no-check-certificate -O Cooking.Up Murder_ Uncovering.the.Story.of.César.Román_S01E01_Like a King.mp4.mkv\n",
        "# !wget -c 'https://dl-a10b-0861.mypikpak.com/download/?fid=aSK5CJnmxqeSx-x2ePsyV0PcId_Wjkjgsj5p0VbeMES75VGdjSM-Xzb9NdeWEbi5x7Sbn16ypmw4bLT9ygEeAGDoZzT-vUu_tJ2oJhKlEDU=&from=5&verno=3&prod=1104&expire=1716124923&g=FE458BE8686BFB8A0E2DD69CE6FF56835B1FDA97&ui=ZkTJtIws3k_Y5Fk2&t=0&ms=6300000&th=6300000&f=1458687464&alt=0&userid=ZkTJtIws3k_Y5Fk2&fileid=VNyASush-HekmL-0D9BLgqK1o1&pr=XQPkPvr9WWiIuMvELmrVejv5gQJSN3LUTQE1du5Y7MJGTE1-Ac5L-OIC5IhFCSeb3qFwHM7eTnzURglxIAPzttzucFn1xYIKAnlatcYjjb-1UzEO6pHhIQbT8n9dDMsfgF7Er6EbzgJI-v_zbbbdyQSwMTUQMLY7hNudRkJ0P4rqVvAz5LaHBBfTGbkFYp28zxZpZWSZsXW313F5S5lQ5ZMW5E3PjtYXgdf0gHeDU9fW55P_6p-gzMjhQClW3jwFiGqVMgevex5haSjiM3S3eNZy7hgAUBEq29f5-4B4UQXzOGKqTMKTpegI-ZJIeF7zcoPkusW63s0pfgEzMsELjP1l8GfPmePi1P9YaFEsYZY=&sign=F17D301971D13853F3D1DFAF9C736E32' --no-check-certificate -O Cooking.Up Murder_ Uncovering.the.Story.of.César.Román_S01E02_The King's.Speech.mp4\n",
        "# !wget -c 'https://dl-a10b-0865.mypikpak.com/download/?fid=-uYIE-wYn2zJxI_4ZezY4_5HZ6fjNwv6jiVi380zpPb8T6C6gaqCPzzTBhsMSLKdUs_OVDXHupSpPzbWf8N0DGDoZzT-vUu_tJ2oJhKlEDU=&from=5&verno=3&prod=1104&expire=1716124952&g=279F7F14AF1DA89B948B48B7A9E62DCD279420CE&ui=ZkTJtIws3k_Y5Fk2&t=0&ms=6300000&th=6300000&f=1222664099&alt=0&fileid=VNyASush-HekmL-0D9BLgqJyo1&userid=ZkTJtIws3k_Y5Fk2&pr=XQPkPvr9WWiIuMvELmrVehmu4O8Snp6RSSj0Fu0b5pTWL07q6eXVEBmCP9E-UFjdIRZjnyEbHvj-R3DIL99YhsPbBJL48lX43dbW-UoYBti32_KRBBPbId9uCGQP4a2TooIZg8h_Nj46VCal0hpon1_j3HlbADsmazR90LVGi7kfzbYdaElHK9x6s54GxKCbE6YOZYcpIiUP5f0kuXSGeTXbVQorhdEtpYGrr6P-1YcxmOJEty-gzUI3vLFDpzvgxTCKkqdcm4tdRJnfiKgC3bICTBStXM0FlJ4h8j4vTIHv_LI88jIxE9r0l0V9yWiJqsE4WgawMe2YvAnY9XJCNyRBHQEduhwhOMKMBNH7y-s=&sign=6DCF5AF278939ECCF0461D0E70FE1818' --no-check-certificate -O Cooking.Up Murder_ Uncovering.the.Story.of.César.Román_S01E03_The.Dethroned.King.mp4\n",
        "# !wget -c 'URL' --no-check-certificate -O abc.mkv\n",
        "# !wget -c 'URL' --no-check-certificate -O abc.mkv\n",
        "# !wget -c 'URL' --no-check-certificate -O abc.mkv\n",
        "# !wget -c 'URL' --no-check-certificate -O abc.mkv\n",
        "# !wget -c 'URL' --no-check-certificate -O abc.mkv\n",
        "# !wget -c 'URL' --no-check-certificate -O abc.mkv\n",
        "# !wget -c 'URL' --no-check-certificate -O abc.mkv\n",
        "# !wget -c 'URL' --no-check-certificate -O abc.mkv\n",
        "# !wget -c 'URL' --no-check-certificate -O abc.mkv"
      ]
    },
    {
      "cell_type": "code",
      "execution_count": null,
      "metadata": {
        "id": "rhZ62vcFaL2a"
      },
      "outputs": [],
      "source": [
        "!pip install boto3"
      ]
    },
    {
      "cell_type": "code",
      "execution_count": null,
      "metadata": {
        "id": "Y42m6MQVaM5x"
      },
      "outputs": [],
      "source": [
        "#Upload by folder\n",
        "import os\n",
        "import time\n",
        "from datetime import datetime, timedelta\n",
        "import boto3\n",
        "import threading\n",
        "\n",
        "# Let's use S3\n",
        "s3 = boto3.client(\n",
        "    service_name='s3',\n",
        "    aws_access_key_id='JngRo4NhaqBYP5hW',\n",
        "    aws_secret_access_key='zhILxlGejNU9aWyizI5yQPO0YVRGTp6hoy64s8ZD',\n",
        "    endpoint_url='https://s3.tebi.io'\n",
        ")\n",
        "\n",
        "# Set the folder path\n",
        "folder_path = '/content/content3'\n",
        "\n",
        "bytes_transferred = 0\n",
        "\n",
        "def show_progress():\n",
        "    global start_time, bytes_transferred, total_bytes\n",
        "    elapsed_time = max(time.time() - start_time, 0.001)\n",
        "    speed = (bytes_transferred / (1024 ** 2)) / elapsed_time\n",
        "    remaining_bytes = total_bytes - bytes_transferred\n",
        "\n",
        "    if bytes_transferred == 0:\n",
        "        estimated_remaining_time = \"Unknown\"\n",
        "    else:\n",
        "        estimated_remaining_time = timedelta(seconds=remaining_bytes / (bytes_transferred / elapsed_time))\n",
        "\n",
        "    print(f'\\rUploaded: {bytes_transferred / (1024 ** 3):.2f}/{total_bytes / (1024 ** 3):.2f} GB, '\n",
        "          f'Speed: {speed:.2f} MB/s, '\n",
        "          f'Estimated remaining time: {estimated_remaining_time}', end='')\n",
        "\n",
        "    # Schedule the next progress update\n",
        "    threading.Timer(1, show_progress).start()\n",
        "\n",
        "# Custom progress callback function to display upload progress\n",
        "def progress_callback(new_bytes_transferred):\n",
        "    global bytes_transferred\n",
        "    bytes_transferred += new_bytes_transferred\n",
        "\n",
        "# Loop through all items in the folder\n",
        "for item_name in os.listdir(folder_path):\n",
        "    item_path = os.path.join(folder_path, item_name)\n",
        "\n",
        "    # Check if the item is a file\n",
        "    if os.path.isfile(item_path):\n",
        "        print(f\"Uploading {item_name}\")\n",
        "\n",
        "        # Upload each file to S3\n",
        "        with open(item_path, 'rb') as data:\n",
        "            file_size = os.path.getsize(item_path)\n",
        "            total_bytes = file_size\n",
        "            start_time = time.time()  # Store the start time of the upload for calculating speed\n",
        "            show_progress()  # Start showing progress updates\n",
        "            s3.upload_fileobj(data, 'educationvnrr', item_name, Callback=progress_callback)\n",
        "            print(f'\\nUploaded {item_name}')\n",
        "    else:\n",
        "        print(f\"Skipping {item_name} (not a file)\")\n",
        "\n",
        "print('All files uploaded successfully!')"
      ]
    },
    {
      "cell_type": "code",
      "execution_count": null,
      "metadata": {
        "id": "0XnJBGd3duPD"
      },
      "outputs": [],
      "source": [
        "import os\n",
        "import boto3\n",
        "\n",
        "# S3 credentials and configuration\n",
        "s3 = boto3.client(\n",
        "    service_name='s3',\n",
        "    aws_access_key_id='JngRo4NhaqBYP5hW',\n",
        "    aws_secret_access_key='zhILxlGejNU9aWyizI5yQPO0YVRGTp6hoy64s8ZD',\n",
        "    endpoint_url='https://s3.tebi.io'\n",
        ")\n",
        "\n",
        "# Specify the bucket name\n",
        "bucket_name = 'tempmovies'\n",
        "\n",
        "def list_files():\n",
        "    \"\"\"Lists files within the specified bucket.\"\"\"\n",
        "    print(\"Listing files:\")\n",
        "    index = 1\n",
        "    for item in s3.list_objects(Bucket=bucket_name)['Contents']:\n",
        "        print(f\"{index}. {item['Key']}\")\n",
        "        index += 1\n",
        "\n",
        "def delete_files():\n",
        "    \"\"\"Prompts for file selection and deletes them from the bucket.\"\"\"\n",
        "    while True:\n",
        "        try:\n",
        "            choices = input(\"Mention the number of files to delete, or file numbers separated by spaces: \")\n",
        "            if choices == '':\n",
        "                print(\"No files selected.\")\n",
        "                break\n",
        "\n",
        "            # Handle single or multiple selections\n",
        "            choices = choices.split()\n",
        "            for choice in choices:\n",
        "                if choice.isdigit():\n",
        "                    index = int(choice) - 1  # Adjust for zero-based indexing\n",
        "                    if 0 <= index < len(s3.list_objects(Bucket=bucket_name)['Contents']):\n",
        "                        file_key = s3.list_objects(Bucket=bucket_name)['Contents'][index]['Key']\n",
        "                        s3.delete_object(Bucket=bucket_name, Key=file_key)\n",
        "                        print(f\"File '{file_key}' deleted.\")\n",
        "                    else:\n",
        "                        print(f\"Invalid file number: {choice}\")\n",
        "                else:\n",
        "                    # Assume direct file key was entered\n",
        "                    s3.delete_object(Bucket=bucket_name, Key=choice)\n",
        "                    print(f\"File '{choice}' deleted.\")\n",
        "            break  # Exit the loop upon successful deletion\n",
        "\n",
        "        except ValueError:\n",
        "            print(\"Invalid input. Please provide valid file numbers.\")\n",
        "\n",
        "# Main execution\n",
        "list_files()  # List files once at the beginning\n",
        "delete_files()\n"
      ]
    }
  ],
  "metadata": {
    "colab": {
      "provenance": []
    },
    "kernelspec": {
      "display_name": "Python 3",
      "name": "python3"
    },
    "language_info": {
      "name": "python"
    }
  },
  "nbformat": 4,
  "nbformat_minor": 0
}
